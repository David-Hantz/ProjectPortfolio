{
 "cells": [
  {
   "cell_type": "code",
   "execution_count": 2,
   "id": "53a30978",
   "metadata": {},
   "outputs": [],
   "source": [
    "import pandas as pd\n",
    "import seaborn as sns\n",
    "import matplotlib.pyplot as plt"
   ]
  },
  {
   "cell_type": "code",
   "execution_count": 3,
   "id": "fccb93e2",
   "metadata": {},
   "outputs": [],
   "source": [
    "df = pd.read_csv(\"bakery_sales.csv\")"
   ]
  },
  {
   "cell_type": "code",
   "execution_count": 4,
   "id": "167d9daa",
   "metadata": {},
   "outputs": [
    {
     "data": {
      "text/html": [
       "<div>\n",
       "<style scoped>\n",
       "    .dataframe tbody tr th:only-of-type {\n",
       "        vertical-align: middle;\n",
       "    }\n",
       "\n",
       "    .dataframe tbody tr th {\n",
       "        vertical-align: top;\n",
       "    }\n",
       "\n",
       "    .dataframe thead th {\n",
       "        text-align: right;\n",
       "    }\n",
       "</style>\n",
       "<table border=\"1\" class=\"dataframe\">\n",
       "  <thead>\n",
       "    <tr style=\"text-align: right;\">\n",
       "      <th></th>\n",
       "      <th>Transaction</th>\n",
       "      <th>Item</th>\n",
       "      <th>date_time</th>\n",
       "      <th>period_day</th>\n",
       "      <th>weekday_weekend</th>\n",
       "    </tr>\n",
       "  </thead>\n",
       "  <tbody>\n",
       "    <tr>\n",
       "      <th>0</th>\n",
       "      <td>1</td>\n",
       "      <td>Bread</td>\n",
       "      <td>10/30/2016 9:58</td>\n",
       "      <td>morning</td>\n",
       "      <td>weekend</td>\n",
       "    </tr>\n",
       "    <tr>\n",
       "      <th>1</th>\n",
       "      <td>2</td>\n",
       "      <td>Scandinavian</td>\n",
       "      <td>10/30/2016 10:05</td>\n",
       "      <td>morning</td>\n",
       "      <td>weekend</td>\n",
       "    </tr>\n",
       "    <tr>\n",
       "      <th>2</th>\n",
       "      <td>2</td>\n",
       "      <td>Scandinavian</td>\n",
       "      <td>10/30/2016 10:05</td>\n",
       "      <td>morning</td>\n",
       "      <td>weekend</td>\n",
       "    </tr>\n",
       "    <tr>\n",
       "      <th>3</th>\n",
       "      <td>3</td>\n",
       "      <td>Hot chocolate</td>\n",
       "      <td>10/30/2016 10:07</td>\n",
       "      <td>morning</td>\n",
       "      <td>weekend</td>\n",
       "    </tr>\n",
       "    <tr>\n",
       "      <th>4</th>\n",
       "      <td>3</td>\n",
       "      <td>Jam</td>\n",
       "      <td>10/30/2016 10:07</td>\n",
       "      <td>morning</td>\n",
       "      <td>weekend</td>\n",
       "    </tr>\n",
       "    <tr>\n",
       "      <th>5</th>\n",
       "      <td>3</td>\n",
       "      <td>Cookies</td>\n",
       "      <td>10/30/2016 10:07</td>\n",
       "      <td>morning</td>\n",
       "      <td>weekend</td>\n",
       "    </tr>\n",
       "    <tr>\n",
       "      <th>6</th>\n",
       "      <td>4</td>\n",
       "      <td>Muffin</td>\n",
       "      <td>10/30/2016 10:08</td>\n",
       "      <td>morning</td>\n",
       "      <td>weekend</td>\n",
       "    </tr>\n",
       "    <tr>\n",
       "      <th>7</th>\n",
       "      <td>5</td>\n",
       "      <td>Coffee</td>\n",
       "      <td>10/30/2016 10:13</td>\n",
       "      <td>morning</td>\n",
       "      <td>weekend</td>\n",
       "    </tr>\n",
       "    <tr>\n",
       "      <th>8</th>\n",
       "      <td>5</td>\n",
       "      <td>Pastry</td>\n",
       "      <td>10/30/2016 10:13</td>\n",
       "      <td>morning</td>\n",
       "      <td>weekend</td>\n",
       "    </tr>\n",
       "    <tr>\n",
       "      <th>9</th>\n",
       "      <td>5</td>\n",
       "      <td>Bread</td>\n",
       "      <td>10/30/2016 10:13</td>\n",
       "      <td>morning</td>\n",
       "      <td>weekend</td>\n",
       "    </tr>\n",
       "  </tbody>\n",
       "</table>\n",
       "</div>"
      ],
      "text/plain": [
       "   Transaction           Item         date_time period_day weekday_weekend\n",
       "0            1          Bread   10/30/2016 9:58    morning         weekend\n",
       "1            2   Scandinavian  10/30/2016 10:05    morning         weekend\n",
       "2            2   Scandinavian  10/30/2016 10:05    morning         weekend\n",
       "3            3  Hot chocolate  10/30/2016 10:07    morning         weekend\n",
       "4            3            Jam  10/30/2016 10:07    morning         weekend\n",
       "5            3        Cookies  10/30/2016 10:07    morning         weekend\n",
       "6            4         Muffin  10/30/2016 10:08    morning         weekend\n",
       "7            5         Coffee  10/30/2016 10:13    morning         weekend\n",
       "8            5         Pastry  10/30/2016 10:13    morning         weekend\n",
       "9            5          Bread  10/30/2016 10:13    morning         weekend"
      ]
     },
     "execution_count": 4,
     "metadata": {},
     "output_type": "execute_result"
    }
   ],
   "source": [
    "df.head(10)"
   ]
  },
  {
   "cell_type": "code",
   "execution_count": 5,
   "id": "55ef1502",
   "metadata": {},
   "outputs": [],
   "source": [
    "#clean data; narrow down items"
   ]
  },
  {
   "cell_type": "code",
   "execution_count": 6,
   "id": "035c55c7",
   "metadata": {},
   "outputs": [],
   "source": [
    "items = ['Bread', 'Hot Chocolate', 'Cookies', 'Muffin', 'Coffee', 'Tea', \n",
    "         'Smoothies', 'Cake', 'Soup', 'Toast', 'Truffles', 'Salad', 'Sandwich', \n",
    "         'Baguette', 'Caramel Bites', 'Granola', 'Crepes', 'Chocolates']\n",
    "\n",
    "\n",
    "items_df = df[df['Item'].isin(items)]"
   ]
  },
  {
   "cell_type": "code",
   "execution_count": 7,
   "id": "2875c4cb",
   "metadata": {},
   "outputs": [
    {
     "data": {
      "text/html": [
       "<div>\n",
       "<style scoped>\n",
       "    .dataframe tbody tr th:only-of-type {\n",
       "        vertical-align: middle;\n",
       "    }\n",
       "\n",
       "    .dataframe tbody tr th {\n",
       "        vertical-align: top;\n",
       "    }\n",
       "\n",
       "    .dataframe thead th {\n",
       "        text-align: right;\n",
       "    }\n",
       "</style>\n",
       "<table border=\"1\" class=\"dataframe\">\n",
       "  <thead>\n",
       "    <tr style=\"text-align: right;\">\n",
       "      <th></th>\n",
       "      <th>Transaction</th>\n",
       "      <th>Item</th>\n",
       "      <th>date_time</th>\n",
       "      <th>period_day</th>\n",
       "      <th>weekday_weekend</th>\n",
       "    </tr>\n",
       "  </thead>\n",
       "  <tbody>\n",
       "    <tr>\n",
       "      <th>0</th>\n",
       "      <td>1</td>\n",
       "      <td>Bread</td>\n",
       "      <td>10/30/2016 9:58</td>\n",
       "      <td>morning</td>\n",
       "      <td>weekend</td>\n",
       "    </tr>\n",
       "    <tr>\n",
       "      <th>5</th>\n",
       "      <td>3</td>\n",
       "      <td>Cookies</td>\n",
       "      <td>10/30/2016 10:07</td>\n",
       "      <td>morning</td>\n",
       "      <td>weekend</td>\n",
       "    </tr>\n",
       "    <tr>\n",
       "      <th>6</th>\n",
       "      <td>4</td>\n",
       "      <td>Muffin</td>\n",
       "      <td>10/30/2016 10:08</td>\n",
       "      <td>morning</td>\n",
       "      <td>weekend</td>\n",
       "    </tr>\n",
       "    <tr>\n",
       "      <th>7</th>\n",
       "      <td>5</td>\n",
       "      <td>Coffee</td>\n",
       "      <td>10/30/2016 10:13</td>\n",
       "      <td>morning</td>\n",
       "      <td>weekend</td>\n",
       "    </tr>\n",
       "    <tr>\n",
       "      <th>9</th>\n",
       "      <td>5</td>\n",
       "      <td>Bread</td>\n",
       "      <td>10/30/2016 10:13</td>\n",
       "      <td>morning</td>\n",
       "      <td>weekend</td>\n",
       "    </tr>\n",
       "    <tr>\n",
       "      <th>...</th>\n",
       "      <td>...</td>\n",
       "      <td>...</td>\n",
       "      <td>...</td>\n",
       "      <td>...</td>\n",
       "      <td>...</td>\n",
       "    </tr>\n",
       "    <tr>\n",
       "      <th>20500</th>\n",
       "      <td>9682</td>\n",
       "      <td>Muffin</td>\n",
       "      <td>4/9/2017 14:32</td>\n",
       "      <td>afternoon</td>\n",
       "      <td>weekend</td>\n",
       "    </tr>\n",
       "    <tr>\n",
       "      <th>20502</th>\n",
       "      <td>9682</td>\n",
       "      <td>Coffee</td>\n",
       "      <td>4/9/2017 14:32</td>\n",
       "      <td>afternoon</td>\n",
       "      <td>weekend</td>\n",
       "    </tr>\n",
       "    <tr>\n",
       "      <th>20503</th>\n",
       "      <td>9682</td>\n",
       "      <td>Tea</td>\n",
       "      <td>4/9/2017 14:32</td>\n",
       "      <td>afternoon</td>\n",
       "      <td>weekend</td>\n",
       "    </tr>\n",
       "    <tr>\n",
       "      <th>20504</th>\n",
       "      <td>9683</td>\n",
       "      <td>Coffee</td>\n",
       "      <td>4/9/2017 14:57</td>\n",
       "      <td>afternoon</td>\n",
       "      <td>weekend</td>\n",
       "    </tr>\n",
       "    <tr>\n",
       "      <th>20506</th>\n",
       "      <td>9684</td>\n",
       "      <td>Smoothies</td>\n",
       "      <td>4/9/2017 15:04</td>\n",
       "      <td>afternoon</td>\n",
       "      <td>weekend</td>\n",
       "    </tr>\n",
       "  </tbody>\n",
       "</table>\n",
       "<p>14162 rows × 5 columns</p>\n",
       "</div>"
      ],
      "text/plain": [
       "       Transaction       Item         date_time period_day weekday_weekend\n",
       "0                1      Bread   10/30/2016 9:58    morning         weekend\n",
       "5                3    Cookies  10/30/2016 10:07    morning         weekend\n",
       "6                4     Muffin  10/30/2016 10:08    morning         weekend\n",
       "7                5     Coffee  10/30/2016 10:13    morning         weekend\n",
       "9                5      Bread  10/30/2016 10:13    morning         weekend\n",
       "...            ...        ...               ...        ...             ...\n",
       "20500         9682     Muffin    4/9/2017 14:32  afternoon         weekend\n",
       "20502         9682     Coffee    4/9/2017 14:32  afternoon         weekend\n",
       "20503         9682        Tea    4/9/2017 14:32  afternoon         weekend\n",
       "20504         9683     Coffee    4/9/2017 14:57  afternoon         weekend\n",
       "20506         9684  Smoothies    4/9/2017 15:04  afternoon         weekend\n",
       "\n",
       "[14162 rows x 5 columns]"
      ]
     },
     "execution_count": 7,
     "metadata": {},
     "output_type": "execute_result"
    }
   ],
   "source": [
    "items_df"
   ]
  },
  {
   "cell_type": "code",
   "execution_count": 8,
   "id": "5d1d45cf",
   "metadata": {},
   "outputs": [
    {
     "name": "stdout",
     "output_type": "stream",
     "text": [
      "<class 'pandas.core.frame.DataFrame'>\n"
     ]
    }
   ],
   "source": [
    "print(type(items_df))"
   ]
  },
  {
   "cell_type": "code",
   "execution_count": 9,
   "id": "93965534",
   "metadata": {
    "scrolled": true
   },
   "outputs": [
    {
     "name": "stdout",
     "output_type": "stream",
     "text": [
      "<bound method NDFrame.describe of        Transaction       Item         date_time period_day weekday_weekend\n",
      "0                1      Bread   10/30/2016 9:58    morning         weekend\n",
      "5                3    Cookies  10/30/2016 10:07    morning         weekend\n",
      "6                4     Muffin  10/30/2016 10:08    morning         weekend\n",
      "7                5     Coffee  10/30/2016 10:13    morning         weekend\n",
      "9                5      Bread  10/30/2016 10:13    morning         weekend\n",
      "...            ...        ...               ...        ...             ...\n",
      "20500         9682     Muffin    4/9/2017 14:32  afternoon         weekend\n",
      "20502         9682     Coffee    4/9/2017 14:32  afternoon         weekend\n",
      "20503         9682        Tea    4/9/2017 14:32  afternoon         weekend\n",
      "20504         9683     Coffee    4/9/2017 14:57  afternoon         weekend\n",
      "20506         9684  Smoothies    4/9/2017 15:04  afternoon         weekend\n",
      "\n",
      "[14162 rows x 5 columns]>\n"
     ]
    }
   ],
   "source": [
    "print(items_df.describe)"
   ]
  },
  {
   "cell_type": "code",
   "execution_count": null,
   "id": "a0d1f515",
   "metadata": {},
   "outputs": [],
   "source": [
    "#Distribution of sales"
   ]
  },
  {
   "cell_type": "code",
   "execution_count": 10,
   "id": "57d9a235",
   "metadata": {},
   "outputs": [],
   "source": [
    "items_sold = items_df['Item'].value_counts()"
   ]
  },
  {
   "cell_type": "code",
   "execution_count": 11,
   "id": "abe2891c",
   "metadata": {
    "scrolled": true
   },
   "outputs": [
    {
     "data": {
      "image/png": "[encoded data removed]",
      "text/plain": [
       "<Figure size 1000x600 with 1 Axes>"
      ]
     },
     "metadata": {},
     "output_type": "display_data"
    }
   ],
   "source": [
    "items_sold.plot(kind='bar', figsize=(10, 6))\n",
    "\n",
    "plt.title('Distribution of Sales by Item')\n",
    "\n",
    "plt.xlabel('Item')\n",
    "\n",
    "plt.ylabel('Number of Sales')\n",
    "\n",
    "plt.xticks(rotation=45, ha='right')\n",
    "\n",
    "plt.show()"
   ]
  },
  {
   "cell_type": "code",
   "execution_count": null,
   "id": "61336060",
   "metadata": {},
   "outputs": [],
   "source": [
    "# Average items per transaction"
   ]
  },
  {
   "cell_type": "code",
   "execution_count": 12,
   "id": "4e4a20f3",
   "metadata": {},
   "outputs": [
    {
     "name": "stdout",
     "output_type": "stream",
     "text": [
      "Average items per transaction: 1.7101799299601497\n"
     ]
    }
   ],
   "source": [
    "avg_items_per_transaction = items_df.groupby('Transaction').size().mean()\n",
    "print(f'Average items per transaction: {avg_items_per_transaction}')"
   ]
  },
  {
   "cell_type": "code",
   "execution_count": null,
   "id": "53b2fa36",
   "metadata": {},
   "outputs": [],
   "source": [
    "# Top 10 most sold items"
   ]
  },
  {
   "cell_type": "code",
   "execution_count": 13,
   "id": "5d3a1583",
   "metadata": {},
   "outputs": [],
   "source": [
    "top_items = items_df['Item'].value_counts().head(10)"
   ]
  },
  {
   "cell_type": "code",
   "execution_count": null,
   "id": "ece6ea9a",
   "metadata": {},
   "outputs": [],
   "source": [
    "# Plotting the top 10 items sold"
   ]
  },
  {
   "cell_type": "code",
   "execution_count": 14,
   "id": "19a547f0",
   "metadata": {
    "scrolled": true
   },
   "outputs": [
    {
     "data": {
      "image/png": "[encoded data removed]",
      "text/plain": [
       "<Figure size 800x600 with 1 Axes>"
      ]
     },
     "metadata": {},
     "output_type": "display_data"
    }
   ],
   "source": [
    "top_items.plot(kind='bar', figsize=(8, 6))\n",
    "\n",
    "plt.title('Top 10 Best-Selling Items')\n",
    "\n",
    "plt.xlabel('Item')\n",
    "\n",
    "plt.ylabel('Number of Sales')\n",
    "\n",
    "plt.xticks(rotation=45)\n",
    "\n",
    "plt.show()\n"
   ]
  },
  {
   "cell_type": "code",
   "execution_count": null,
   "id": "159eb8ce",
   "metadata": {},
   "outputs": [],
   "source": [
    "# Plotting the bottom 5 items sold"
   ]
  },
  {
   "cell_type": "code",
   "execution_count": 15,
   "id": "d154d753",
   "metadata": {},
   "outputs": [],
   "source": [
    "item_sales = items_df['Item'].value_counts()"
   ]
  },
  {
   "cell_type": "code",
   "execution_count": 16,
   "id": "fba835d9",
   "metadata": {},
   "outputs": [],
   "source": [
    "worst_performers = item_sales.sort_values(ascending=True)"
   ]
  },
  {
   "cell_type": "code",
   "execution_count": 17,
   "id": "3452bd84",
   "metadata": {},
   "outputs": [
    {
     "name": "stdout",
     "output_type": "stream",
     "text": [
      "Item\n",
      "Crepes         6\n",
      "Chocolates    10\n",
      "Granola       28\n",
      "Smoothies     77\n",
      "Salad         99\n",
      "Name: count, dtype: int64\n"
     ]
    }
   ],
   "source": [
    "print(worst_performers.head(5))"
   ]
  },
  {
   "cell_type": "code",
   "execution_count": 18,
   "id": "0d6a7f15",
   "metadata": {},
   "outputs": [
    {
     "data": {
      "image/png": "[encoded data removed]",
      "text/plain": [
       "<Figure size 1000x600 with 1 Axes>"
      ]
     },
     "metadata": {},
     "output_type": "display_data"
    }
   ],
   "source": [
    "worst_performers.head(5).plot(kind='barh', figsize=(10, 6))\n",
    "\n",
    "plt.title('Worst Performing Items (Least Sales)')\n",
    "\n",
    "plt.xlabel('Number of Sales')\n",
    "\n",
    "plt.ylabel('Item')\n",
    "\n",
    "plt.show()"
   ]
  },
  {
   "cell_type": "code",
   "execution_count": null,
   "id": "99decac0",
   "metadata": {},
   "outputs": [],
   "source": [
    "#check for duplicates"
   ]
  },
  {
   "cell_type": "code",
   "execution_count": 19,
   "id": "38c5308f",
   "metadata": {
    "scrolled": true
   },
   "outputs": [
    {
     "data": {
      "text/html": [
       "<div>\n",
       "<style scoped>\n",
       "    .dataframe tbody tr th:only-of-type {\n",
       "        vertical-align: middle;\n",
       "    }\n",
       "\n",
       "    .dataframe tbody tr th {\n",
       "        vertical-align: top;\n",
       "    }\n",
       "\n",
       "    .dataframe thead th {\n",
       "        text-align: right;\n",
       "    }\n",
       "</style>\n",
       "<table border=\"1\" class=\"dataframe\">\n",
       "  <thead>\n",
       "    <tr style=\"text-align: right;\">\n",
       "      <th></th>\n",
       "      <th>Transaction</th>\n",
       "      <th>Item</th>\n",
       "      <th>date_time</th>\n",
       "      <th>period_day</th>\n",
       "      <th>weekday_weekend</th>\n",
       "    </tr>\n",
       "  </thead>\n",
       "  <tbody>\n",
       "    <tr>\n",
       "      <th>25</th>\n",
       "      <td>11</td>\n",
       "      <td>Bread</td>\n",
       "      <td>10/30/2016 10:27</td>\n",
       "      <td>morning</td>\n",
       "      <td>weekend</td>\n",
       "    </tr>\n",
       "    <tr>\n",
       "      <th>49</th>\n",
       "      <td>21</td>\n",
       "      <td>Coffee</td>\n",
       "      <td>10/30/2016 10:49</td>\n",
       "      <td>morning</td>\n",
       "      <td>weekend</td>\n",
       "    </tr>\n",
       "    <tr>\n",
       "      <th>101</th>\n",
       "      <td>49</td>\n",
       "      <td>Coffee</td>\n",
       "      <td>10/30/2016 12:23</td>\n",
       "      <td>afternoon</td>\n",
       "      <td>weekend</td>\n",
       "    </tr>\n",
       "    <tr>\n",
       "      <th>123</th>\n",
       "      <td>60</td>\n",
       "      <td>Coffee</td>\n",
       "      <td>10/30/2016 13:14</td>\n",
       "      <td>afternoon</td>\n",
       "      <td>weekend</td>\n",
       "    </tr>\n",
       "    <tr>\n",
       "      <th>130</th>\n",
       "      <td>62</td>\n",
       "      <td>Coffee</td>\n",
       "      <td>10/30/2016 13:24</td>\n",
       "      <td>afternoon</td>\n",
       "      <td>weekend</td>\n",
       "    </tr>\n",
       "    <tr>\n",
       "      <th>...</th>\n",
       "      <td>...</td>\n",
       "      <td>...</td>\n",
       "      <td>...</td>\n",
       "      <td>...</td>\n",
       "      <td>...</td>\n",
       "    </tr>\n",
       "    <tr>\n",
       "      <th>20390</th>\n",
       "      <td>9618</td>\n",
       "      <td>Cake</td>\n",
       "      <td>4/8/2017 15:04</td>\n",
       "      <td>afternoon</td>\n",
       "      <td>weekend</td>\n",
       "    </tr>\n",
       "    <tr>\n",
       "      <th>20404</th>\n",
       "      <td>9627</td>\n",
       "      <td>Coffee</td>\n",
       "      <td>4/8/2017 16:05</td>\n",
       "      <td>afternoon</td>\n",
       "      <td>weekend</td>\n",
       "    </tr>\n",
       "    <tr>\n",
       "      <th>20423</th>\n",
       "      <td>9634</td>\n",
       "      <td>Coffee</td>\n",
       "      <td>4/8/2017 16:30</td>\n",
       "      <td>afternoon</td>\n",
       "      <td>weekend</td>\n",
       "    </tr>\n",
       "    <tr>\n",
       "      <th>20465</th>\n",
       "      <td>9664</td>\n",
       "      <td>Coffee</td>\n",
       "      <td>4/9/2017 11:40</td>\n",
       "      <td>morning</td>\n",
       "      <td>weekend</td>\n",
       "    </tr>\n",
       "    <tr>\n",
       "      <th>20473</th>\n",
       "      <td>9667</td>\n",
       "      <td>Sandwich</td>\n",
       "      <td>4/9/2017 12:04</td>\n",
       "      <td>afternoon</td>\n",
       "      <td>weekend</td>\n",
       "    </tr>\n",
       "  </tbody>\n",
       "</table>\n",
       "<p>1438 rows × 5 columns</p>\n",
       "</div>"
      ],
      "text/plain": [
       "       Transaction      Item         date_time period_day weekday_weekend\n",
       "25              11     Bread  10/30/2016 10:27    morning         weekend\n",
       "49              21    Coffee  10/30/2016 10:49    morning         weekend\n",
       "101             49    Coffee  10/30/2016 12:23  afternoon         weekend\n",
       "123             60    Coffee  10/30/2016 13:14  afternoon         weekend\n",
       "130             62    Coffee  10/30/2016 13:24  afternoon         weekend\n",
       "...            ...       ...               ...        ...             ...\n",
       "20390         9618      Cake    4/8/2017 15:04  afternoon         weekend\n",
       "20404         9627    Coffee    4/8/2017 16:05  afternoon         weekend\n",
       "20423         9634    Coffee    4/8/2017 16:30  afternoon         weekend\n",
       "20465         9664    Coffee    4/9/2017 11:40    morning         weekend\n",
       "20473         9667  Sandwich    4/9/2017 12:04  afternoon         weekend\n",
       "\n",
       "[1438 rows x 5 columns]"
      ]
     },
     "execution_count": 19,
     "metadata": {},
     "output_type": "execute_result"
    }
   ],
   "source": [
    "items_df[items_df.duplicated() == True]"
   ]
  },
  {
   "cell_type": "code",
   "execution_count": 20,
   "id": "fdb9ce00",
   "metadata": {},
   "outputs": [],
   "source": [
    "items_df = items_df.drop_duplicates()"
   ]
  },
  {
   "cell_type": "code",
   "execution_count": 22,
   "id": "132f0563",
   "metadata": {},
   "outputs": [
    {
     "data": {
      "text/html": [
       "<div>\n",
       "<style scoped>\n",
       "    .dataframe tbody tr th:only-of-type {\n",
       "        vertical-align: middle;\n",
       "    }\n",
       "\n",
       "    .dataframe tbody tr th {\n",
       "        vertical-align: top;\n",
       "    }\n",
       "\n",
       "    .dataframe thead th {\n",
       "        text-align: right;\n",
       "    }\n",
       "</style>\n",
       "<table border=\"1\" class=\"dataframe\">\n",
       "  <thead>\n",
       "    <tr style=\"text-align: right;\">\n",
       "      <th></th>\n",
       "      <th>Transaction</th>\n",
       "      <th>Item</th>\n",
       "      <th>date_time</th>\n",
       "      <th>period_day</th>\n",
       "      <th>weekday_weekend</th>\n",
       "    </tr>\n",
       "  </thead>\n",
       "  <tbody>\n",
       "  </tbody>\n",
       "</table>\n",
       "</div>"
      ],
      "text/plain": [
       "Empty DataFrame\n",
       "Columns: [Transaction, Item, date_time, period_day, weekday_weekend]\n",
       "Index: []"
      ]
     },
     "execution_count": 22,
     "metadata": {},
     "output_type": "execute_result"
    }
   ],
   "source": [
    "items_df[items_df.duplicated() == True]"
   ]
  },
  {
   "cell_type": "code",
   "execution_count": null,
   "id": "aaa516fa",
   "metadata": {},
   "outputs": [],
   "source": [
    "#reset index"
   ]
  },
  {
   "cell_type": "code",
   "execution_count": 10,
   "id": "d27b722e",
   "metadata": {
    "scrolled": true
   },
   "outputs": [
    {
     "data": {
      "text/html": [
       "<div>\n",
       "<style scoped>\n",
       "    .dataframe tbody tr th:only-of-type {\n",
       "        vertical-align: middle;\n",
       "    }\n",
       "\n",
       "    .dataframe tbody tr th {\n",
       "        vertical-align: top;\n",
       "    }\n",
       "\n",
       "    .dataframe thead th {\n",
       "        text-align: right;\n",
       "    }\n",
       "</style>\n",
       "<table border=\"1\" class=\"dataframe\">\n",
       "  <thead>\n",
       "    <tr style=\"text-align: right;\">\n",
       "      <th></th>\n",
       "      <th>Transaction</th>\n",
       "      <th>Item</th>\n",
       "      <th>date_time</th>\n",
       "      <th>period_day</th>\n",
       "      <th>weekday_weekend</th>\n",
       "    </tr>\n",
       "  </thead>\n",
       "  <tbody>\n",
       "    <tr>\n",
       "      <th>0</th>\n",
       "      <td>1</td>\n",
       "      <td>Bread</td>\n",
       "      <td>10/30/2016 9:58</td>\n",
       "      <td>morning</td>\n",
       "      <td>weekend</td>\n",
       "    </tr>\n",
       "    <tr>\n",
       "      <th>1</th>\n",
       "      <td>3</td>\n",
       "      <td>Cookies</td>\n",
       "      <td>10/30/2016 10:07</td>\n",
       "      <td>morning</td>\n",
       "      <td>weekend</td>\n",
       "    </tr>\n",
       "    <tr>\n",
       "      <th>2</th>\n",
       "      <td>4</td>\n",
       "      <td>Muffin</td>\n",
       "      <td>10/30/2016 10:08</td>\n",
       "      <td>morning</td>\n",
       "      <td>weekend</td>\n",
       "    </tr>\n",
       "    <tr>\n",
       "      <th>3</th>\n",
       "      <td>5</td>\n",
       "      <td>Coffee</td>\n",
       "      <td>10/30/2016 10:13</td>\n",
       "      <td>morning</td>\n",
       "      <td>weekend</td>\n",
       "    </tr>\n",
       "    <tr>\n",
       "      <th>4</th>\n",
       "      <td>5</td>\n",
       "      <td>Bread</td>\n",
       "      <td>10/30/2016 10:13</td>\n",
       "      <td>morning</td>\n",
       "      <td>weekend</td>\n",
       "    </tr>\n",
       "    <tr>\n",
       "      <th>...</th>\n",
       "      <td>...</td>\n",
       "      <td>...</td>\n",
       "      <td>...</td>\n",
       "      <td>...</td>\n",
       "      <td>...</td>\n",
       "    </tr>\n",
       "    <tr>\n",
       "      <th>14157</th>\n",
       "      <td>9682</td>\n",
       "      <td>Muffin</td>\n",
       "      <td>4/9/2017 14:32</td>\n",
       "      <td>afternoon</td>\n",
       "      <td>weekend</td>\n",
       "    </tr>\n",
       "    <tr>\n",
       "      <th>14158</th>\n",
       "      <td>9682</td>\n",
       "      <td>Coffee</td>\n",
       "      <td>4/9/2017 14:32</td>\n",
       "      <td>afternoon</td>\n",
       "      <td>weekend</td>\n",
       "    </tr>\n",
       "    <tr>\n",
       "      <th>14159</th>\n",
       "      <td>9682</td>\n",
       "      <td>Tea</td>\n",
       "      <td>4/9/2017 14:32</td>\n",
       "      <td>afternoon</td>\n",
       "      <td>weekend</td>\n",
       "    </tr>\n",
       "    <tr>\n",
       "      <th>14160</th>\n",
       "      <td>9683</td>\n",
       "      <td>Coffee</td>\n",
       "      <td>4/9/2017 14:57</td>\n",
       "      <td>afternoon</td>\n",
       "      <td>weekend</td>\n",
       "    </tr>\n",
       "    <tr>\n",
       "      <th>14161</th>\n",
       "      <td>9684</td>\n",
       "      <td>Smoothies</td>\n",
       "      <td>4/9/2017 15:04</td>\n",
       "      <td>afternoon</td>\n",
       "      <td>weekend</td>\n",
       "    </tr>\n",
       "  </tbody>\n",
       "</table>\n",
       "<p>14162 rows × 5 columns</p>\n",
       "</div>"
      ],
      "text/plain": [
       "       Transaction       Item         date_time period_day weekday_weekend\n",
       "0                1      Bread   10/30/2016 9:58    morning         weekend\n",
       "1                3    Cookies  10/30/2016 10:07    morning         weekend\n",
       "2                4     Muffin  10/30/2016 10:08    morning         weekend\n",
       "3                5     Coffee  10/30/2016 10:13    morning         weekend\n",
       "4                5      Bread  10/30/2016 10:13    morning         weekend\n",
       "...            ...        ...               ...        ...             ...\n",
       "14157         9682     Muffin    4/9/2017 14:32  afternoon         weekend\n",
       "14158         9682     Coffee    4/9/2017 14:32  afternoon         weekend\n",
       "14159         9682        Tea    4/9/2017 14:32  afternoon         weekend\n",
       "14160         9683     Coffee    4/9/2017 14:57  afternoon         weekend\n",
       "14161         9684  Smoothies    4/9/2017 15:04  afternoon         weekend\n",
       "\n",
       "[14162 rows x 5 columns]"
      ]
     },
     "execution_count": 10,
     "metadata": {},
     "output_type": "execute_result"
    }
   ],
   "source": [
    "items_df.reset_index(drop = True)"
   ]
  },
  {
   "cell_type": "code",
   "execution_count": null,
   "id": "ba828378",
   "metadata": {},
   "outputs": [],
   "source": [
    "#fix types"
   ]
  },
  {
   "cell_type": "code",
   "execution_count": 24,
   "id": "19fc35c9",
   "metadata": {
    "scrolled": true
   },
   "outputs": [
    {
     "data": {
      "text/plain": [
       "Transaction         int64\n",
       "Item               object\n",
       "date_time          object\n",
       "period_day         object\n",
       "weekday_weekend    object\n",
       "dtype: object"
      ]
     },
     "execution_count": 24,
     "metadata": {},
     "output_type": "execute_result"
    }
   ],
   "source": [
    "items_df.dtypes"
   ]
  },
  {
   "cell_type": "code",
   "execution_count": 28,
   "id": "7b814be2",
   "metadata": {},
   "outputs": [
    {
     "name": "stderr",
     "output_type": "stream",
     "text": [
      "C:\\Users\\david\\AppData\\Local\\Temp\\ipykernel_83028\\2116237487.py:1: SettingWithCopyWarning: \n",
      "A value is trying to be set on a copy of a slice from a DataFrame.\n",
      "Try using .loc[row_indexer,col_indexer] = value instead\n",
      "\n",
      "See the caveats in the documentation: https://pandas.pydata.org/pandas-docs/stable/user_guide/indexing.html#returning-a-view-versus-a-copy\n",
      "  items_df['date_time'] = pd.to_datetime(items_df['date_time'])\n"
     ]
    }
   ],
   "source": [
    "items_df['date_time'] = pd.to_datetime(items_df['date_time'])"
   ]
  },
  {
   "cell_type": "code",
   "execution_count": 25,
   "id": "b98e488b",
   "metadata": {},
   "outputs": [
    {
     "name": "stderr",
     "output_type": "stream",
     "text": [
      "C:\\Users\\david\\AppData\\Local\\Temp\\ipykernel_83028\\875887182.py:1: SettingWithCopyWarning: \n",
      "A value is trying to be set on a copy of a slice from a DataFrame.\n",
      "Try using .loc[row_indexer,col_indexer] = value instead\n",
      "\n",
      "See the caveats in the documentation: https://pandas.pydata.org/pandas-docs/stable/user_guide/indexing.html#returning-a-view-versus-a-copy\n",
      "  items_df['period_day'] = items_df['period_day'].astype('category')\n",
      "C:\\Users\\david\\AppData\\Local\\Temp\\ipykernel_83028\\875887182.py:2: SettingWithCopyWarning: \n",
      "A value is trying to be set on a copy of a slice from a DataFrame.\n",
      "Try using .loc[row_indexer,col_indexer] = value instead\n",
      "\n",
      "See the caveats in the documentation: https://pandas.pydata.org/pandas-docs/stable/user_guide/indexing.html#returning-a-view-versus-a-copy\n",
      "  items_df['weekday_weekend'] = items_df['weekday_weekend'].astype('category')\n"
     ]
    }
   ],
   "source": [
    "items_df['period_day'] = items_df['period_day'].astype('category')\n",
    "items_df['weekday_weekend'] = items_df['weekday_weekend'].astype('category')"
   ]
  },
  {
   "cell_type": "code",
   "execution_count": 29,
   "id": "9b6f9775",
   "metadata": {},
   "outputs": [
    {
     "data": {
      "text/html": [
       "<div>\n",
       "<style scoped>\n",
       "    .dataframe tbody tr th:only-of-type {\n",
       "        vertical-align: middle;\n",
       "    }\n",
       "\n",
       "    .dataframe tbody tr th {\n",
       "        vertical-align: top;\n",
       "    }\n",
       "\n",
       "    .dataframe thead th {\n",
       "        text-align: right;\n",
       "    }\n",
       "</style>\n",
       "<table border=\"1\" class=\"dataframe\">\n",
       "  <thead>\n",
       "    <tr style=\"text-align: right;\">\n",
       "      <th></th>\n",
       "      <th>Transaction</th>\n",
       "      <th>Item</th>\n",
       "      <th>date_time</th>\n",
       "      <th>period_day</th>\n",
       "      <th>weekday_weekend</th>\n",
       "    </tr>\n",
       "  </thead>\n",
       "  <tbody>\n",
       "    <tr>\n",
       "      <th>0</th>\n",
       "      <td>1</td>\n",
       "      <td>Bread</td>\n",
       "      <td>2016-10-30 09:58:00</td>\n",
       "      <td>morning</td>\n",
       "      <td>weekend</td>\n",
       "    </tr>\n",
       "    <tr>\n",
       "      <th>5</th>\n",
       "      <td>3</td>\n",
       "      <td>Cookies</td>\n",
       "      <td>2016-10-30 10:07:00</td>\n",
       "      <td>morning</td>\n",
       "      <td>weekend</td>\n",
       "    </tr>\n",
       "    <tr>\n",
       "      <th>6</th>\n",
       "      <td>4</td>\n",
       "      <td>Muffin</td>\n",
       "      <td>2016-10-30 10:08:00</td>\n",
       "      <td>morning</td>\n",
       "      <td>weekend</td>\n",
       "    </tr>\n",
       "    <tr>\n",
       "      <th>7</th>\n",
       "      <td>5</td>\n",
       "      <td>Coffee</td>\n",
       "      <td>2016-10-30 10:13:00</td>\n",
       "      <td>morning</td>\n",
       "      <td>weekend</td>\n",
       "    </tr>\n",
       "    <tr>\n",
       "      <th>9</th>\n",
       "      <td>5</td>\n",
       "      <td>Bread</td>\n",
       "      <td>2016-10-30 10:13:00</td>\n",
       "      <td>morning</td>\n",
       "      <td>weekend</td>\n",
       "    </tr>\n",
       "  </tbody>\n",
       "</table>\n",
       "</div>"
      ],
      "text/plain": [
       "   Transaction     Item           date_time period_day weekday_weekend\n",
       "0            1    Bread 2016-10-30 09:58:00    morning         weekend\n",
       "5            3  Cookies 2016-10-30 10:07:00    morning         weekend\n",
       "6            4   Muffin 2016-10-30 10:08:00    morning         weekend\n",
       "7            5   Coffee 2016-10-30 10:13:00    morning         weekend\n",
       "9            5    Bread 2016-10-30 10:13:00    morning         weekend"
      ]
     },
     "execution_count": 29,
     "metadata": {},
     "output_type": "execute_result"
    }
   ],
   "source": [
    "items_df.head()"
   ]
  },
  {
   "cell_type": "code",
   "execution_count": 30,
   "id": "c32154e0",
   "metadata": {},
   "outputs": [
    {
     "data": {
      "text/plain": [
       "Transaction                 int64\n",
       "Item                       object\n",
       "date_time          datetime64[ns]\n",
       "period_day               category\n",
       "weekday_weekend          category\n",
       "dtype: object"
      ]
     },
     "execution_count": 30,
     "metadata": {},
     "output_type": "execute_result"
    }
   ],
   "source": [
    "items_df.dtypes"
   ]
  },
  {
   "cell_type": "code",
   "execution_count": null,
   "id": "895f3a67",
   "metadata": {},
   "outputs": [],
   "source": [
    "#Rename columns"
   ]
  },
  {
   "cell_type": "code",
   "execution_count": 32,
   "id": "14fd25ff",
   "metadata": {},
   "outputs": [
    {
     "data": {
      "text/html": [
       "<div>\n",
       "<style scoped>\n",
       "    .dataframe tbody tr th:only-of-type {\n",
       "        vertical-align: middle;\n",
       "    }\n",
       "\n",
       "    .dataframe tbody tr th {\n",
       "        vertical-align: top;\n",
       "    }\n",
       "\n",
       "    .dataframe thead th {\n",
       "        text-align: right;\n",
       "    }\n",
       "</style>\n",
       "<table border=\"1\" class=\"dataframe\">\n",
       "  <thead>\n",
       "    <tr style=\"text-align: right;\">\n",
       "      <th></th>\n",
       "      <th>transaction</th>\n",
       "      <th>item</th>\n",
       "      <th>date_time</th>\n",
       "      <th>period_day</th>\n",
       "      <th>weekday_weekend</th>\n",
       "    </tr>\n",
       "  </thead>\n",
       "  <tbody>\n",
       "    <tr>\n",
       "      <th>0</th>\n",
       "      <td>1</td>\n",
       "      <td>Bread</td>\n",
       "      <td>2016-10-30 09:58:00</td>\n",
       "      <td>morning</td>\n",
       "      <td>weekend</td>\n",
       "    </tr>\n",
       "    <tr>\n",
       "      <th>5</th>\n",
       "      <td>3</td>\n",
       "      <td>Cookies</td>\n",
       "      <td>2016-10-30 10:07:00</td>\n",
       "      <td>morning</td>\n",
       "      <td>weekend</td>\n",
       "    </tr>\n",
       "    <tr>\n",
       "      <th>6</th>\n",
       "      <td>4</td>\n",
       "      <td>Muffin</td>\n",
       "      <td>2016-10-30 10:08:00</td>\n",
       "      <td>morning</td>\n",
       "      <td>weekend</td>\n",
       "    </tr>\n",
       "    <tr>\n",
       "      <th>7</th>\n",
       "      <td>5</td>\n",
       "      <td>Coffee</td>\n",
       "      <td>2016-10-30 10:13:00</td>\n",
       "      <td>morning</td>\n",
       "      <td>weekend</td>\n",
       "    </tr>\n",
       "    <tr>\n",
       "      <th>9</th>\n",
       "      <td>5</td>\n",
       "      <td>Bread</td>\n",
       "      <td>2016-10-30 10:13:00</td>\n",
       "      <td>morning</td>\n",
       "      <td>weekend</td>\n",
       "    </tr>\n",
       "    <tr>\n",
       "      <th>...</th>\n",
       "      <td>...</td>\n",
       "      <td>...</td>\n",
       "      <td>...</td>\n",
       "      <td>...</td>\n",
       "      <td>...</td>\n",
       "    </tr>\n",
       "    <tr>\n",
       "      <th>20500</th>\n",
       "      <td>9682</td>\n",
       "      <td>Muffin</td>\n",
       "      <td>2017-04-09 14:32:00</td>\n",
       "      <td>afternoon</td>\n",
       "      <td>weekend</td>\n",
       "    </tr>\n",
       "    <tr>\n",
       "      <th>20502</th>\n",
       "      <td>9682</td>\n",
       "      <td>Coffee</td>\n",
       "      <td>2017-04-09 14:32:00</td>\n",
       "      <td>afternoon</td>\n",
       "      <td>weekend</td>\n",
       "    </tr>\n",
       "    <tr>\n",
       "      <th>20503</th>\n",
       "      <td>9682</td>\n",
       "      <td>Tea</td>\n",
       "      <td>2017-04-09 14:32:00</td>\n",
       "      <td>afternoon</td>\n",
       "      <td>weekend</td>\n",
       "    </tr>\n",
       "    <tr>\n",
       "      <th>20504</th>\n",
       "      <td>9683</td>\n",
       "      <td>Coffee</td>\n",
       "      <td>2017-04-09 14:57:00</td>\n",
       "      <td>afternoon</td>\n",
       "      <td>weekend</td>\n",
       "    </tr>\n",
       "    <tr>\n",
       "      <th>20506</th>\n",
       "      <td>9684</td>\n",
       "      <td>Smoothies</td>\n",
       "      <td>2017-04-09 15:04:00</td>\n",
       "      <td>afternoon</td>\n",
       "      <td>weekend</td>\n",
       "    </tr>\n",
       "  </tbody>\n",
       "</table>\n",
       "<p>12724 rows × 5 columns</p>\n",
       "</div>"
      ],
      "text/plain": [
       "       transaction       item           date_time period_day weekday_weekend\n",
       "0                1      Bread 2016-10-30 09:58:00    morning         weekend\n",
       "5                3    Cookies 2016-10-30 10:07:00    morning         weekend\n",
       "6                4     Muffin 2016-10-30 10:08:00    morning         weekend\n",
       "7                5     Coffee 2016-10-30 10:13:00    morning         weekend\n",
       "9                5      Bread 2016-10-30 10:13:00    morning         weekend\n",
       "...            ...        ...                 ...        ...             ...\n",
       "20500         9682     Muffin 2017-04-09 14:32:00  afternoon         weekend\n",
       "20502         9682     Coffee 2017-04-09 14:32:00  afternoon         weekend\n",
       "20503         9682        Tea 2017-04-09 14:32:00  afternoon         weekend\n",
       "20504         9683     Coffee 2017-04-09 14:57:00  afternoon         weekend\n",
       "20506         9684  Smoothies 2017-04-09 15:04:00  afternoon         weekend\n",
       "\n",
       "[12724 rows x 5 columns]"
      ]
     },
     "execution_count": 32,
     "metadata": {},
     "output_type": "execute_result"
    }
   ],
   "source": [
    "items_df.rename(columns = {'Transaction':'transaction',\n",
    "                          'Item':'item'})"
   ]
  },
  {
   "cell_type": "code",
   "execution_count": null,
   "id": "b1dce541",
   "metadata": {},
   "outputs": [],
   "source": [
    "#sales distribution by item and time of day"
   ]
  },
  {
   "cell_type": "code",
   "execution_count": 60,
   "id": "e18dba7c",
   "metadata": {
    "scrolled": false
   },
   "outputs": [
    {
     "name": "stderr",
     "output_type": "stream",
     "text": [
      "C:\\Users\\david\\AppData\\Local\\Temp\\ipykernel_83028\\4020727416.py:1: SettingWithCopyWarning: \n",
      "A value is trying to be set on a copy of a slice from a DataFrame.\n",
      "Try using .loc[row_indexer,col_indexer] = value instead\n",
      "\n",
      "See the caveats in the documentation: https://pandas.pydata.org/pandas-docs/stable/user_guide/indexing.html#returning-a-view-versus-a-copy\n",
      "  items_df['hour_12'] = items_df['date_time'].dt.strftime('%I %p')\n"
     ]
    }
   ],
   "source": [
    "items_df['hour_12'] = items_df['date_time'].dt.strftime('%I %p')"
   ]
  },
  {
   "cell_type": "code",
   "execution_count": 61,
   "id": "ffd58718",
   "metadata": {
    "scrolled": true
   },
   "outputs": [
    {
     "name": "stdout",
     "output_type": "stream",
     "text": [
      "            date_time hour_12\n",
      "0 2016-10-30 09:58:00   09 AM\n",
      "5 2016-10-30 10:07:00   10 AM\n",
      "6 2016-10-30 10:08:00   10 AM\n",
      "7 2016-10-30 10:13:00   10 AM\n",
      "9 2016-10-30 10:13:00   10 AM\n"
     ]
    }
   ],
   "source": [
    "print(items_df[['date_time', 'hour_12']].head())"
   ]
  },
  {
   "cell_type": "code",
   "execution_count": 62,
   "id": "7349b074",
   "metadata": {},
   "outputs": [],
   "source": [
    "heatmap_data = items_df.pivot_table(index='hour_12', columns='Item', aggfunc='size', fill_value=0)"
   ]
  },
  {
   "cell_type": "code",
   "execution_count": 68,
   "id": "aecd320b",
   "metadata": {},
   "outputs": [
    {
     "data": {
      "image/png": "[encoded data removed]",
      "text/plain": [
       "<Figure size 1200x800 with 2 Axes>"
      ]
     },
     "metadata": {},
     "output_type": "display_data"
    }
   ],
   "source": [
    "plt.figure(figsize=(12, 8))\n",
    "\n",
    "sns.heatmap(heatmap_data, cmap='YlGnBu')\n",
    "\n",
    "plt.title('Sales Distribution by Item and Time of Day')\n",
    "\n",
    "plt.tight_layout()\n",
    "\n",
    "plt.show()"
   ]
  },
  {
   "cell_type": "code",
   "execution_count": null,
   "id": "6fcee0d3",
   "metadata": {},
   "outputs": [],
   "source": [
    "#hourly sales distribution"
   ]
  },
  {
   "cell_type": "code",
   "execution_count": 69,
   "id": "da3135d3",
   "metadata": {},
   "outputs": [],
   "source": [
    "sales_by_hour = items_df['hour_12'].value_counts().sort_index()"
   ]
  },
  {
   "cell_type": "code",
   "execution_count": 71,
   "id": "4ca922b5",
   "metadata": {},
   "outputs": [
    {
     "data": {
      "image/png": "[encoded data removed]",
      "text/plain": [
       "<Figure size 1000x600 with 1 Axes>"
      ]
     },
     "metadata": {},
     "output_type": "display_data"
    }
   ],
   "source": [
    "unwanted_hours = ['01 AM', '07 PM', '08 PM']\n",
    "\n",
    "sales_by_hour = sales_by_hour[~sales_by_hour.index.isin(unwanted_hours)]\n",
    "\n",
    "\n",
    "\n",
    "sales_by_hour.plot(kind='bar', figsize=(10, 6))\n",
    "\n",
    "plt.title('Sales Distribution by Hour of the Day')\n",
    "\n",
    "plt.xlabel('Hour')\n",
    "\n",
    "plt.ylabel('Number of Sales')\n",
    "\n",
    "plt.xticks(rotation=0)\n",
    "\n",
    "plt.tight_layout()\n",
    "\n",
    "plt.show()"
   ]
  },
  {
   "cell_type": "code",
   "execution_count": 39,
   "id": "c29457f1",
   "metadata": {},
   "outputs": [
    {
     "data": {
      "text/html": [
       "<div>\n",
       "<style scoped>\n",
       "    .dataframe tbody tr th:only-of-type {\n",
       "        vertical-align: middle;\n",
       "    }\n",
       "\n",
       "    .dataframe tbody tr th {\n",
       "        vertical-align: top;\n",
       "    }\n",
       "\n",
       "    .dataframe thead th {\n",
       "        text-align: right;\n",
       "    }\n",
       "</style>\n",
       "<table border=\"1\" class=\"dataframe\">\n",
       "  <thead>\n",
       "    <tr style=\"text-align: right;\">\n",
       "      <th></th>\n",
       "      <th>Transaction</th>\n",
       "      <th>Item</th>\n",
       "      <th>date_time</th>\n",
       "      <th>period_day</th>\n",
       "      <th>weekday_weekend</th>\n",
       "    </tr>\n",
       "  </thead>\n",
       "  <tbody>\n",
       "    <tr>\n",
       "      <th>0</th>\n",
       "      <td>1</td>\n",
       "      <td>Bread</td>\n",
       "      <td>2016-10-30 09:58:00</td>\n",
       "      <td>morning</td>\n",
       "      <td>weekend</td>\n",
       "    </tr>\n",
       "    <tr>\n",
       "      <th>5</th>\n",
       "      <td>3</td>\n",
       "      <td>Cookies</td>\n",
       "      <td>2016-10-30 10:07:00</td>\n",
       "      <td>morning</td>\n",
       "      <td>weekend</td>\n",
       "    </tr>\n",
       "    <tr>\n",
       "      <th>6</th>\n",
       "      <td>4</td>\n",
       "      <td>Muffin</td>\n",
       "      <td>2016-10-30 10:08:00</td>\n",
       "      <td>morning</td>\n",
       "      <td>weekend</td>\n",
       "    </tr>\n",
       "    <tr>\n",
       "      <th>7</th>\n",
       "      <td>5</td>\n",
       "      <td>Coffee</td>\n",
       "      <td>2016-10-30 10:13:00</td>\n",
       "      <td>morning</td>\n",
       "      <td>weekend</td>\n",
       "    </tr>\n",
       "    <tr>\n",
       "      <th>9</th>\n",
       "      <td>5</td>\n",
       "      <td>Bread</td>\n",
       "      <td>2016-10-30 10:13:00</td>\n",
       "      <td>morning</td>\n",
       "      <td>weekend</td>\n",
       "    </tr>\n",
       "    <tr>\n",
       "      <th>...</th>\n",
       "      <td>...</td>\n",
       "      <td>...</td>\n",
       "      <td>...</td>\n",
       "      <td>...</td>\n",
       "      <td>...</td>\n",
       "    </tr>\n",
       "    <tr>\n",
       "      <th>20500</th>\n",
       "      <td>9682</td>\n",
       "      <td>Muffin</td>\n",
       "      <td>2017-04-09 14:32:00</td>\n",
       "      <td>afternoon</td>\n",
       "      <td>weekend</td>\n",
       "    </tr>\n",
       "    <tr>\n",
       "      <th>20502</th>\n",
       "      <td>9682</td>\n",
       "      <td>Coffee</td>\n",
       "      <td>2017-04-09 14:32:00</td>\n",
       "      <td>afternoon</td>\n",
       "      <td>weekend</td>\n",
       "    </tr>\n",
       "    <tr>\n",
       "      <th>20503</th>\n",
       "      <td>9682</td>\n",
       "      <td>Tea</td>\n",
       "      <td>2017-04-09 14:32:00</td>\n",
       "      <td>afternoon</td>\n",
       "      <td>weekend</td>\n",
       "    </tr>\n",
       "    <tr>\n",
       "      <th>20504</th>\n",
       "      <td>9683</td>\n",
       "      <td>Coffee</td>\n",
       "      <td>2017-04-09 14:57:00</td>\n",
       "      <td>afternoon</td>\n",
       "      <td>weekend</td>\n",
       "    </tr>\n",
       "    <tr>\n",
       "      <th>20506</th>\n",
       "      <td>9684</td>\n",
       "      <td>Smoothies</td>\n",
       "      <td>2017-04-09 15:04:00</td>\n",
       "      <td>afternoon</td>\n",
       "      <td>weekend</td>\n",
       "    </tr>\n",
       "  </tbody>\n",
       "</table>\n",
       "<p>12724 rows × 5 columns</p>\n",
       "</div>"
      ],
      "text/plain": [
       "       Transaction       Item           date_time period_day weekday_weekend\n",
       "0                1      Bread 2016-10-30 09:58:00    morning         weekend\n",
       "5                3    Cookies 2016-10-30 10:07:00    morning         weekend\n",
       "6                4     Muffin 2016-10-30 10:08:00    morning         weekend\n",
       "7                5     Coffee 2016-10-30 10:13:00    morning         weekend\n",
       "9                5      Bread 2016-10-30 10:13:00    morning         weekend\n",
       "...            ...        ...                 ...        ...             ...\n",
       "20500         9682     Muffin 2017-04-09 14:32:00  afternoon         weekend\n",
       "20502         9682     Coffee 2017-04-09 14:32:00  afternoon         weekend\n",
       "20503         9682        Tea 2017-04-09 14:32:00  afternoon         weekend\n",
       "20504         9683     Coffee 2017-04-09 14:57:00  afternoon         weekend\n",
       "20506         9684  Smoothies 2017-04-09 15:04:00  afternoon         weekend\n",
       "\n",
       "[12724 rows x 5 columns]"
      ]
     },
     "execution_count": 39,
     "metadata": {},
     "output_type": "execute_result"
    }
   ],
   "source": [
    "items_df"
   ]
  },
  {
   "cell_type": "code",
   "execution_count": 40,
   "id": "4140e632",
   "metadata": {},
   "outputs": [
    {
     "data": {
      "text/html": [
       "<div>\n",
       "<style scoped>\n",
       "    .dataframe tbody tr th:only-of-type {\n",
       "        vertical-align: middle;\n",
       "    }\n",
       "\n",
       "    .dataframe tbody tr th {\n",
       "        vertical-align: top;\n",
       "    }\n",
       "\n",
       "    .dataframe thead th {\n",
       "        text-align: right;\n",
       "    }\n",
       "</style>\n",
       "<table border=\"1\" class=\"dataframe\">\n",
       "  <thead>\n",
       "    <tr style=\"text-align: right;\">\n",
       "      <th></th>\n",
       "      <th>Transaction</th>\n",
       "      <th>Item</th>\n",
       "      <th>date_time</th>\n",
       "      <th>period_day</th>\n",
       "      <th>weekday_weekend</th>\n",
       "    </tr>\n",
       "  </thead>\n",
       "  <tbody>\n",
       "    <tr>\n",
       "      <th>0</th>\n",
       "      <td>1</td>\n",
       "      <td>Bread</td>\n",
       "      <td>2016-10-30 09:58:00</td>\n",
       "      <td>morning</td>\n",
       "      <td>weekend</td>\n",
       "    </tr>\n",
       "    <tr>\n",
       "      <th>1</th>\n",
       "      <td>3</td>\n",
       "      <td>Cookies</td>\n",
       "      <td>2016-10-30 10:07:00</td>\n",
       "      <td>morning</td>\n",
       "      <td>weekend</td>\n",
       "    </tr>\n",
       "    <tr>\n",
       "      <th>2</th>\n",
       "      <td>4</td>\n",
       "      <td>Muffin</td>\n",
       "      <td>2016-10-30 10:08:00</td>\n",
       "      <td>morning</td>\n",
       "      <td>weekend</td>\n",
       "    </tr>\n",
       "    <tr>\n",
       "      <th>3</th>\n",
       "      <td>5</td>\n",
       "      <td>Coffee</td>\n",
       "      <td>2016-10-30 10:13:00</td>\n",
       "      <td>morning</td>\n",
       "      <td>weekend</td>\n",
       "    </tr>\n",
       "    <tr>\n",
       "      <th>4</th>\n",
       "      <td>5</td>\n",
       "      <td>Bread</td>\n",
       "      <td>2016-10-30 10:13:00</td>\n",
       "      <td>morning</td>\n",
       "      <td>weekend</td>\n",
       "    </tr>\n",
       "    <tr>\n",
       "      <th>...</th>\n",
       "      <td>...</td>\n",
       "      <td>...</td>\n",
       "      <td>...</td>\n",
       "      <td>...</td>\n",
       "      <td>...</td>\n",
       "    </tr>\n",
       "    <tr>\n",
       "      <th>12719</th>\n",
       "      <td>9682</td>\n",
       "      <td>Muffin</td>\n",
       "      <td>2017-04-09 14:32:00</td>\n",
       "      <td>afternoon</td>\n",
       "      <td>weekend</td>\n",
       "    </tr>\n",
       "    <tr>\n",
       "      <th>12720</th>\n",
       "      <td>9682</td>\n",
       "      <td>Coffee</td>\n",
       "      <td>2017-04-09 14:32:00</td>\n",
       "      <td>afternoon</td>\n",
       "      <td>weekend</td>\n",
       "    </tr>\n",
       "    <tr>\n",
       "      <th>12721</th>\n",
       "      <td>9682</td>\n",
       "      <td>Tea</td>\n",
       "      <td>2017-04-09 14:32:00</td>\n",
       "      <td>afternoon</td>\n",
       "      <td>weekend</td>\n",
       "    </tr>\n",
       "    <tr>\n",
       "      <th>12722</th>\n",
       "      <td>9683</td>\n",
       "      <td>Coffee</td>\n",
       "      <td>2017-04-09 14:57:00</td>\n",
       "      <td>afternoon</td>\n",
       "      <td>weekend</td>\n",
       "    </tr>\n",
       "    <tr>\n",
       "      <th>12723</th>\n",
       "      <td>9684</td>\n",
       "      <td>Smoothies</td>\n",
       "      <td>2017-04-09 15:04:00</td>\n",
       "      <td>afternoon</td>\n",
       "      <td>weekend</td>\n",
       "    </tr>\n",
       "  </tbody>\n",
       "</table>\n",
       "<p>12724 rows × 5 columns</p>\n",
       "</div>"
      ],
      "text/plain": [
       "       Transaction       Item           date_time period_day weekday_weekend\n",
       "0                1      Bread 2016-10-30 09:58:00    morning         weekend\n",
       "1                3    Cookies 2016-10-30 10:07:00    morning         weekend\n",
       "2                4     Muffin 2016-10-30 10:08:00    morning         weekend\n",
       "3                5     Coffee 2016-10-30 10:13:00    morning         weekend\n",
       "4                5      Bread 2016-10-30 10:13:00    morning         weekend\n",
       "...            ...        ...                 ...        ...             ...\n",
       "12719         9682     Muffin 2017-04-09 14:32:00  afternoon         weekend\n",
       "12720         9682     Coffee 2017-04-09 14:32:00  afternoon         weekend\n",
       "12721         9682        Tea 2017-04-09 14:32:00  afternoon         weekend\n",
       "12722         9683     Coffee 2017-04-09 14:57:00  afternoon         weekend\n",
       "12723         9684  Smoothies 2017-04-09 15:04:00  afternoon         weekend\n",
       "\n",
       "[12724 rows x 5 columns]"
      ]
     },
     "execution_count": 40,
     "metadata": {},
     "output_type": "execute_result"
    }
   ],
   "source": [
    "items_df.reset_index(drop = True)"
   ]
  },
  {
   "cell_type": "code",
   "execution_count": null,
   "id": "6fa9c254",
   "metadata": {},
   "outputs": [],
   "source": []
  }
 ],
 "metadata": {
  "kernelspec": {
   "display_name": "Python 3 (ipykernel)",
   "language": "python",
   "name": "python3"
  },
  "language_info": {
   "codemirror_mode": {
    "name": "ipython",
    "version": 3
   },
   "file_extension": ".py",
   "mimetype": "text/x-python",
   "name": "python",
   "nbconvert_exporter": "python",
   "pygments_lexer": "ipython3",
   "version": "3.8.20"
  }
 },
 "nbformat": 4,
 "nbformat_minor": 5
}
